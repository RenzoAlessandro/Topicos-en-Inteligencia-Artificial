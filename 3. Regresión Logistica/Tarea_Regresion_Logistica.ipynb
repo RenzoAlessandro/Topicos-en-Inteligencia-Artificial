{
  "nbformat": 4,
  "nbformat_minor": 0,
  "metadata": {
    "colab": {
      "name": "Tarea_Regresion_Logistica.ipynb",
      "provenance": [],
      "collapsed_sections": []
    },
    "kernelspec": {
      "name": "python3",
      "display_name": "Python 3"
    },
    "language_info": {
      "name": "python"
    }
  },
  "cells": [
    {
      "cell_type": "markdown",
      "metadata": {
        "id": "1SOU7bk9IIU0"
      },
      "source": [
        "# Regresión Logistica Lineal: Decision Boundary \n",
        "- Alumno: Renzo Alessandro Sucari Velásquez\n",
        "- Dataset: Diabetes \n",
        "  - Link: https://www.kaggle.com/saurabh00007/diabetescsv\n",
        "  - Descripción: Este conjunto de datos contiene las siguientes caracteristicas: Pregnancies, Glucose, BloodPressure, SkinThickness, Insulin, BMI, DiabetesPedigreeFunction, Age, Outcome\n",
        "  - 761 instancias\n",
        "  - 70% train y 30% test \n",
        "- Valor a predecir (y): Si/No\n",
        "- Valores de x tomadas: Glucose/Age\n"
      ]
    },
    {
      "cell_type": "code",
      "metadata": {
        "id": "NGkWY3_yGaM7"
      },
      "source": [
        "import pandas as pd\n",
        "import numpy as np\n",
        "import math\n",
        "import matplotlib.pyplot as plt"
      ],
      "execution_count": 1,
      "outputs": []
    },
    {
      "cell_type": "code",
      "metadata": {
        "id": "V58PeWZNHGCr"
      },
      "source": [
        "test = pd.read_csv('diabetes_test.csv')\n",
        "train = pd.read_csv('diabetes_train.csv')\n",
        "#x_train = train.iloc[:,0]\n",
        "x_ones = np.ones((train.shape[0],1))\n",
        "\n",
        "x_train = np.ones((train.shape[0],train.shape[1]))\n",
        "x_train[:,0]=np.ones((train.shape[0],1))[:,0]\n",
        "x_train[:,1]=train.iloc[:,0]\n",
        "x_train[:,2]=train.iloc[:,1]\n",
        "y_train = np.ones((train.shape[0],1))\n",
        "y_train = train.iloc[:,2]\n",
        "\n",
        "x_test = np.ones((test.shape[0],test.shape[1]))\n",
        "x_test[:,1]=test.iloc[:,0]\n",
        "x_test[:,2]=test.iloc[:,1]\n",
        "y_test = np.ones((train.shape[0],1))\n",
        "y_test = test.iloc[:,2]"
      ],
      "execution_count": 15,
      "outputs": []
    },
    {
      "cell_type": "code",
      "metadata": {
        "id": "dGS61kacHIZB"
      },
      "source": [
        "def normalizar(datos):\n",
        "    if(datos.ndim==1):\n",
        "        return (datos - datos.min()) / (datos.max() - datos.min())\n",
        "    else:\n",
        "    \n",
        "        ndatos=np.zeros ((datos.shape[0],datos.shape[1]))\n",
        "        for a in range(datos.shape[1]):\n",
        "            if(datos[:,a].min()<datos[:,a].max()):\n",
        "                col=(datos[:,a] - datos[:,a].min()) / (datos[:,a].max() - datos[:,a].min())\n",
        "            else:\n",
        "                col=datos[:,a]\n",
        "            ndatos[:,a]=col\n",
        "        return ndatos"
      ],
      "execution_count": 3,
      "outputs": []
    },
    {
      "cell_type": "code",
      "metadata": {
        "colab": {
          "base_uri": "https://localhost:8080/",
          "height": 304
        },
        "id": "R7FJeRGdHOsA",
        "outputId": "dbf7dd3c-240b-4a57-9811-c466df2b1c6e"
      },
      "source": [
        "grafica=plt.plot(x_train[:343,1],x_train[:343,2],'r.')\n",
        "grafica=plt.plot(x_train[343:,1],x_train[343:,2],'b.')\n",
        "\n",
        "plt.xlabel(\"$Edad$\", fontsize=18)\n",
        "plt.ylabel(\"$Glucosa$\", rotation=90, fontsize=18)"
      ],
      "execution_count": 4,
      "outputs": [
        {
          "output_type": "execute_result",
          "data": {
            "text/plain": [
              "Text(0, 0.5, '$Glucosa$')"
            ]
          },
          "metadata": {},
          "execution_count": 4
        },
        {
          "output_type": "display_data",
          "data": {
            "image/png": "[encoded data removed]",
            "text/plain": [
              "<Figure size 432x288 with 1 Axes>"
            ]
          },
          "metadata": {
            "needs_background": "light"
          }
        }
      ]
    },
    {
      "cell_type": "code",
      "metadata": {
        "id": "mFizjnbyHR1W"
      },
      "source": [
        "def sigmoid(x):\n",
        "    return 1.0/(1 + np.exp(-x))"
      ],
      "execution_count": 5,
      "outputs": []
    },
    {
      "cell_type": "code",
      "metadata": {
        "id": "o8RiBHW6HTaP"
      },
      "source": [
        "def hipotesis(theta, x):\n",
        "    return sigmoid(np.dot(x, theta))"
      ],
      "execution_count": 6,
      "outputs": []
    },
    {
      "cell_type": "code",
      "metadata": {
        "id": "DHrA_rgvHVVH"
      },
      "source": [
        "def cal_cost(theta,x,y):\n",
        "    m = x.shape[0]    \n",
        "    h = hipotesis(theta, x)\n",
        "    pri = np.matmul(y.T, (np.log(h))[:,0] )\n",
        "    seg = np.matmul((1 - y).T, (np.log(1 - h))[:,0]  )   \n",
        "    return -(1/m) * np.sum(pri + seg)"
      ],
      "execution_count": 7,
      "outputs": []
    },
    {
      "cell_type": "code",
      "metadata": {
        "id": "c8_oZaZuHXRF"
      },
      "source": [
        "def gradiente(x,y,theta,alpha,itera):\n",
        "    m = x.shape[0]\n",
        "    cost_h = np.zeros(itera)\n",
        "    theta_h = np.zeros ((itera,x.shape[1]))\n",
        "    for ite in range(itera):\n",
        "        h = hipotesis(theta, x)\n",
        "        theta[:,0] = theta[:,0] - (alpha) * (x.T.dot(h[:,0]-y))\n",
        "        theta_h[ite,:] = theta.T\n",
        "        cost_h[ite] = cal_cost(theta,x,y)\n",
        "    return theta,theta_h,cost_h"
      ],
      "execution_count": 8,
      "outputs": []
    },
    {
      "cell_type": "code",
      "metadata": {
        "colab": {
          "base_uri": "https://localhost:8080/"
        },
        "id": "xHXROfhRHZ9A",
        "outputId": "a2b125a9-c745-49cd-d95a-7fba906ef083"
      },
      "source": [
        "iteraciones = 1000\n",
        "alph = 0.01\n",
        "theta = np.random.randn (3,1)\n",
        "x_train=normalizar(x_train)\n",
        "#cal_cost(theta,x_train,y_train)\n",
        "theta,theta_h,cost_h=gradiente(x_train,y_train,theta,alph,iteraciones)\n",
        "theta\n",
        "#print(theta)"
      ],
      "execution_count": 9,
      "outputs": [
        {
          "output_type": "execute_result",
          "data": {
            "text/plain": [
              "array([[-4.87217206],\n",
              "       [ 0.99156918],\n",
              "       [ 6.42871133]])"
            ]
          },
          "metadata": {},
          "execution_count": 9
        }
      ]
    },
    {
      "cell_type": "code",
      "metadata": {
        "colab": {
          "base_uri": "https://localhost:8080/",
          "height": 265
        },
        "id": "7wYZbMWUHb7C",
        "outputId": "9254b45a-4d6f-48f1-a2fe-f27ab7060a2a"
      },
      "source": [
        "grafica=plt.plot(np.arange(cost_h.shape[0]),cost_h,'b.')"
      ],
      "execution_count": 10,
      "outputs": [
        {
          "output_type": "display_data",
          "data": {
            "image/png": "[encoded data removed]",
            "text/plain": [
              "<Figure size 432x288 with 1 Axes>"
            ]
          },
          "metadata": {
            "needs_background": "light"
          }
        }
      ]
    },
    {
      "cell_type": "code",
      "metadata": {
        "id": "kIoG4xdbHnws"
      },
      "source": [
        "def getx(theta,x1):\n",
        "    x2 = []\n",
        "    for i in range(len(x1)):\n",
        "        x2.append( -(theta[0,0]+ (theta[1,0]*x1[i]) )/theta[2,0])\n",
        "    return x2"
      ],
      "execution_count": 11,
      "outputs": []
    },
    {
      "cell_type": "code",
      "metadata": {
        "colab": {
          "base_uri": "https://localhost:8080/",
          "height": 304
        },
        "id": "G7Qk7mxVHjgP",
        "outputId": "6574ca02-bb60-4836-e8e3-a9c73950e248"
      },
      "source": [
        "grafica=plt.plot(x_train[:343,1],x_train[:343,2],'r.')\n",
        "grafica=plt.plot(x_train[343:,1],x_train[343:,2],'b.')\n",
        "#grafica=plt.plot([30,40,50],[30,40,50],'r.')\n",
        "\n",
        "plt.xlabel(\"$Edad$\", fontsize=18)\n",
        "plt.ylabel(\"$Glucosa$\", rotation=90, fontsize=18)\n",
        "\n",
        "x_line=np.linspace(0, 1, num=x_train.shape[0])\n",
        "getx(theta,x_line)\n",
        "#hipo=hipotesis(theta,x_train)\n",
        "#hipo\n",
        "plt.plot(x_line,getx(theta,x_line), linestyle='solid')\n",
        "\n",
        "\n"
      ],
      "execution_count": 12,
      "outputs": [
        {
          "output_type": "execute_result",
          "data": {
            "text/plain": [
              "[<matplotlib.lines.Line2D at 0x7f28141a0dd0>]"
            ]
          },
          "metadata": {},
          "execution_count": 12
        },
        {
          "output_type": "display_data",
          "data": {
            "image/png": "[encoded data removed]",
            "text/plain": [
              "<Figure size 432x288 with 1 Axes>"
            ]
          },
          "metadata": {
            "needs_background": "light"
          }
        }
      ]
    }
  ]
}