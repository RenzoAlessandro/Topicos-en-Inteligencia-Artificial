{
  "nbformat": 4,
  "nbformat_minor": 0,
  "metadata": {
    "colab": {
      "name": "Tarea_Regresion_Lineal.ipynb",
      "provenance": [],
      "collapsed_sections": []
    },
    "kernelspec": {
      "name": "python3",
      "display_name": "Python 3"
    },
    "language_info": {
      "name": "python"
    }
  },
  "cells": [
    {
      "cell_type": "code",
      "metadata": {
        "id": "1nFvwcpztutk"
      },
      "source": [
        "import pandas as pd\n",
        "import numpy as np\n",
        "import matplotlib.pyplot as plt"
      ],
      "execution_count": 133,
      "outputs": []
    },
    {
      "cell_type": "markdown",
      "metadata": {
        "id": "_LauuaiPzAaR"
      },
      "source": [
        "## `1. CARGA DE DATOS`"
      ]
    },
    {
      "cell_type": "code",
      "metadata": {
        "colab": {
          "base_uri": "https://localhost:8080/",
          "height": 304
        },
        "id": "_UgYJgXNxUr9",
        "outputId": "397fab22-8528-4359-d9d0-93528b16fca3"
      },
      "source": [
        "# Cargar los datos\n",
        "x_train = pd.read_csv('dataIceCreamData/70train_30test/train_x_IceCreamData.csv')\n",
        "y_train = pd.read_csv('dataIceCreamData/70train_30test/train_y_IceCreamData.csv')\n",
        "x_test = pd.read_csv('dataIceCreamData/70train_30test/test_x_IceCreamData.csv')\n",
        "y_test = pd.read_csv('dataIceCreamData/70train_30test/test_y_IceCreamData.csv')\n",
        "x_train.shape #68\n",
        "x_test.shape  #29\n",
        "\n",
        "\n",
        "grafica=plt.plot(x_train,y_train,'b.')\n",
        "plt.xlabel(\"$Xtrain$\", fontsize=18)\n",
        "plt.ylabel(\"$Ytrain$\", rotation=0, fontsize=18)"
      ],
      "execution_count": 134,
      "outputs": [
        {
          "output_type": "execute_result",
          "data": {
            "text/plain": [
              "Text(0, 0.5, '$Ytrain$')"
            ]
          },
          "metadata": {},
          "execution_count": 134
        },
        {
          "output_type": "display_data",
          "data": {
            "image/png": "[encoded data removed]",
            "text/plain": [
              "<Figure size 432x288 with 1 Axes>"
            ]
          },
          "metadata": {
            "needs_background": "light"
          }
        }
      ]
    },
    {
      "cell_type": "code",
      "metadata": {
        "id": "uTbeTcJ7x98i"
      },
      "source": [
        "# iloc - filtrar por indices [fila, columna] \n",
        "x_train = x_train.iloc[:,:]\n",
        "x_train = y_train.iloc[:,0]\n",
        "x_test = x_test.iloc[:,:]\n",
        "y_test = y_test.iloc[:,0]\n",
        "y_train\n"
      ],
      "execution_count": null,
      "outputs": []
    },
    {
      "cell_type": "markdown",
      "metadata": {
        "id": "xtXMyoyHy8Mu"
      },
      "source": [
        "## `2. Normalización`"
      ]
    },
    {
      "cell_type": "code",
      "metadata": {
        "id": "vOk4cS97zSKo",
        "colab": {
          "base_uri": "https://localhost:8080/"
        },
        "outputId": "47a08814-b163-4cbf-d5e6-b058baa16b9d"
      },
      "source": [
        "# Normalización\n",
        "x_media = np.concatenate((x_train, x_test), axis=0).mean(axis=0) #promedio\n",
        "x_std = np.concatenate((x_train, x_test), axis=0).std(axis=0)    #desviacion estandar\n",
        "y_media = np.concatenate((y_train, y_test), axis=0).mean(axis=0) #promedio\n",
        "y_std = np.concatenate((y_train, y_test), axis=0).std(axis=0)    #desviacion estandar\n",
        "\n",
        "x_std"
      ],
      "execution_count": 135,
      "outputs": [
        {
          "output_type": "execute_result",
          "data": {
            "text/plain": [
              "array([8.81710814])"
            ]
          },
          "metadata": {},
          "execution_count": 135
        }
      ]
    },
    {
      "cell_type": "code",
      "metadata": {
        "colab": {
          "base_uri": "https://localhost:8080/",
          "height": 419
        },
        "id": "cGTm7qeI5qrq",
        "outputId": "88b6ac04-1dc5-4176-85ba-56e509abdcaf"
      },
      "source": [
        "x_train = (x_train - x_media)/x_std\n",
        "y_train = (y_train - y_media)/y_std\n",
        "x_test = (x_test - x_media)/x_std\n",
        "y_test = (y_test - y_media)/y_std\n",
        "\n",
        "x_train"
      ],
      "execution_count": 136,
      "outputs": [
        {
          "output_type": "execute_result",
          "data": {
            "text/html": [
              "<div>\n",
              "<style scoped>\n",
              "    .dataframe tbody tr th:only-of-type {\n",
              "        vertical-align: middle;\n",
              "    }\n",
              "\n",
              "    .dataframe tbody tr th {\n",
              "        vertical-align: top;\n",
              "    }\n",
              "\n",
              "    .dataframe thead th {\n",
              "        text-align: right;\n",
              "    }\n",
              "</style>\n",
              "<table border=\"1\" class=\"dataframe\">\n",
              "  <thead>\n",
              "    <tr style=\"text-align: right;\">\n",
              "      <th></th>\n",
              "      <th>Temperature</th>\n",
              "    </tr>\n",
              "  </thead>\n",
              "  <tbody>\n",
              "    <tr>\n",
              "      <th>0</th>\n",
              "      <td>0.394768</td>\n",
              "    </tr>\n",
              "    <tr>\n",
              "      <th>1</th>\n",
              "      <td>0.557895</td>\n",
              "    </tr>\n",
              "    <tr>\n",
              "      <th>2</th>\n",
              "      <td>0.760383</td>\n",
              "    </tr>\n",
              "    <tr>\n",
              "      <th>3</th>\n",
              "      <td>-0.055669</td>\n",
              "    </tr>\n",
              "    <tr>\n",
              "      <th>4</th>\n",
              "      <td>-1.086827</td>\n",
              "    </tr>\n",
              "    <tr>\n",
              "      <th>...</th>\n",
              "      <td>...</td>\n",
              "    </tr>\n",
              "    <tr>\n",
              "      <th>65</th>\n",
              "      <td>-1.649482</td>\n",
              "    </tr>\n",
              "    <tr>\n",
              "      <th>66</th>\n",
              "      <td>-0.143883</td>\n",
              "    </tr>\n",
              "    <tr>\n",
              "      <th>67</th>\n",
              "      <td>-1.065160</td>\n",
              "    </tr>\n",
              "    <tr>\n",
              "      <th>68</th>\n",
              "      <td>0.045594</td>\n",
              "    </tr>\n",
              "    <tr>\n",
              "      <th>69</th>\n",
              "      <td>-0.262290</td>\n",
              "    </tr>\n",
              "  </tbody>\n",
              "</table>\n",
              "<p>70 rows × 1 columns</p>\n",
              "</div>"
            ],
            "text/plain": [
              "    Temperature\n",
              "0      0.394768\n",
              "1      0.557895\n",
              "2      0.760383\n",
              "3     -0.055669\n",
              "4     -1.086827\n",
              "..          ...\n",
              "65    -1.649482\n",
              "66    -0.143883\n",
              "67    -1.065160\n",
              "68     0.045594\n",
              "69    -0.262290\n",
              "\n",
              "[70 rows x 1 columns]"
            ]
          },
          "metadata": {},
          "execution_count": 136
        }
      ]
    },
    {
      "cell_type": "markdown",
      "metadata": {
        "id": "Sp6MUceVX0Vn"
      },
      "source": [
        "## `3. Agregar Unos`"
      ]
    },
    {
      "cell_type": "code",
      "metadata": {
        "colab": {
          "base_uri": "https://localhost:8080/"
        },
        "id": "r__YeZX97HhI",
        "outputId": "068eb605-ecbf-47ff-ffe6-bde5a36016fc"
      },
      "source": [
        "# Agregar unos\n",
        "n_exa_train = len(y_train)\n",
        "n_exa_test = len(y_test)\n",
        "\n",
        "x_train = np.concatenate((np.ones([n_exa_train, 1]),x_train), axis=1)\n",
        "x_test = np.concatenate((np.ones([n_exa_test, 1]), x_test), axis=1)\n",
        "\n",
        "print(x_train.shape)\n",
        "#print(x_train)\n",
        "x_train"
      ],
      "execution_count": 137,
      "outputs": [
        {
          "output_type": "stream",
          "name": "stdout",
          "text": [
            "(70, 2)\n"
          ]
        },
        {
          "output_type": "execute_result",
          "data": {
            "text/plain": [
              "array([[ 1.        ,  0.39476806],\n",
              "       [ 1.        ,  0.55789487],\n",
              "       [ 1.        ,  0.76038334],\n",
              "       [ 1.        , -0.05566867],\n",
              "       [ 1.        , -1.08682733],\n",
              "       [ 1.        , -0.76370367],\n",
              "       [ 1.        , -0.83682674],\n",
              "       [ 1.        ,  1.1055567 ],\n",
              "       [ 1.        , -2.28071398],\n",
              "       [ 1.        ,  1.20031337],\n",
              "       [ 1.        , -1.092299  ],\n",
              "       [ 1.        , -1.97587484],\n",
              "       [ 1.        , -0.25794713],\n",
              "       [ 1.        , -0.84627099],\n",
              "       [ 1.        ,  2.09294668],\n",
              "       [ 1.        , -0.295225  ],\n",
              "       [ 1.        ,  0.54997663],\n",
              "       [ 1.        ,  2.43040102],\n",
              "       [ 1.        ,  0.96441017],\n",
              "       [ 1.        ,  0.07823157],\n",
              "       [ 1.        ,  0.49581615],\n",
              "       [ 1.        , -0.66593289],\n",
              "       [ 1.        ,  0.17388286],\n",
              "       [ 1.        , -0.54750956],\n",
              "       [ 1.        ,  0.31706008],\n",
              "       [ 1.        , -0.23906608],\n",
              "       [ 1.        , -0.61524792],\n",
              "       [ 1.        ,  0.91854072],\n",
              "       [ 1.        , -0.23381372],\n",
              "       [ 1.        ,  1.59167603],\n",
              "       [ 1.        ,  0.35133577],\n",
              "       [ 1.        , -0.66404784],\n",
              "       [ 1.        , -1.39447297],\n",
              "       [ 1.        , -0.32356912],\n",
              "       [ 1.        ,  1.64937902],\n",
              "       [ 1.        ,  1.81140692],\n",
              "       [ 1.        ,  0.13591515],\n",
              "       [ 1.        , -0.40479233],\n",
              "       [ 1.        ,  1.20807726],\n",
              "       [ 1.        , -0.45779569],\n",
              "       [ 1.        ,  0.21745418],\n",
              "       [ 1.        , -1.39848776],\n",
              "       [ 1.        , -0.26208295],\n",
              "       [ 1.        , -0.79124704],\n",
              "       [ 1.        , -0.27812508],\n",
              "       [ 1.        , -0.61354415],\n",
              "       [ 1.        , -0.01568068],\n",
              "       [ 1.        ,  1.0830235 ],\n",
              "       [ 1.        , -0.06947603],\n",
              "       [ 1.        ,  1.15035639],\n",
              "       [ 1.        , -1.66634421],\n",
              "       [ 1.        ,  0.69179582],\n",
              "       [ 1.        ,  0.8560132 ],\n",
              "       [ 1.        ,  0.78404967],\n",
              "       [ 1.        , -1.22033009],\n",
              "       [ 1.        ,  0.70619976],\n",
              "       [ 1.        ,  1.37794619],\n",
              "       [ 1.        ,  1.7560115 ],\n",
              "       [ 1.        , -0.97801165],\n",
              "       [ 1.        , -0.76062068],\n",
              "       [ 1.        , -0.54253809],\n",
              "       [ 1.        , -1.07932532],\n",
              "       [ 1.        ,  1.41375684],\n",
              "       [ 1.        , -1.93937154],\n",
              "       [ 1.        , -0.06516131],\n",
              "       [ 1.        , -1.64948157],\n",
              "       [ 1.        , -0.14388305],\n",
              "       [ 1.        , -1.06516036],\n",
              "       [ 1.        ,  0.04559373],\n",
              "       [ 1.        , -0.26229003]])"
            ]
          },
          "metadata": {},
          "execution_count": 137
        }
      ]
    },
    {
      "cell_type": "markdown",
      "metadata": {
        "id": "cjiqJhd0X7zP"
      },
      "source": [
        "## `4. Calcular la Predicción`"
      ]
    },
    {
      "cell_type": "code",
      "metadata": {
        "id": "U7jMgOVL8bZ7"
      },
      "source": [
        "# calcular la predicción\n",
        "def prediccion(theta, datos):\n",
        "  return np.dot(datos, theta)"
      ],
      "execution_count": 138,
      "outputs": []
    },
    {
      "cell_type": "markdown",
      "metadata": {
        "id": "ihZ46tzsFlcO"
      },
      "source": [
        "## 5. Calcular Costos\n"
      ]
    },
    {
      "cell_type": "code",
      "metadata": {
        "id": "uNfYHQ9qFsdR"
      },
      "source": [
        "def cal_cost(theta, x, y):\n",
        "  y_pred_test = prediccion(theta, x)\n",
        "  to_sum = (y_pred_test - y) ** 2\n",
        "  return np.sum(to_sum)/(x.shape[0]*2)"
      ],
      "execution_count": 139,
      "outputs": []
    },
    {
      "cell_type": "markdown",
      "metadata": {
        "id": "6GWRsRgoGM3y"
      },
      "source": [
        "## 6. Calcular la Gradiente Descendiente"
      ]
    },
    {
      "cell_type": "code",
      "metadata": {
        "id": "_HlzTStIGSsh",
        "colab": {
          "base_uri": "https://localhost:8080/"
        },
        "outputId": "ead8b789-07ea-4485-eaaa-19d6a362f178"
      },
      "source": [
        "n_features = x_train.shape[1]\n",
        "#theta = np.random.randn (2,1)\n",
        "theta = np.zeros((2,1))\n",
        "alpha = 0.01 # learning rate\n",
        "iterations = 2000\n",
        "#print(theta)\n",
        "\n",
        "def gradient_descent(X,y,theta):\n",
        "    cost_history = np.zeros(iterations)\n",
        "    for it in range(iterations):\n",
        "        prediction = prediccion(theta, X)\n",
        "        # m = prediction.shape[0]\n",
        "        theta = theta - (1/prediction.shape[0])*alpha*( X.T.dot((prediction - y)))\n",
        "        cost_history[it]  = cal_cost(theta,X,y)\n",
        "    return theta, cost_history\n",
        "\n",
        "\n",
        "theta_r, cost_history_r = gradient_descent(x_train, y_train, theta)\n",
        "print(theta_r)\n",
        "cost = cal_cost(theta,x_test, y_test)\n",
        "print(cost)"
      ],
      "execution_count": 141,
      "outputs": [
        {
          "output_type": "stream",
          "name": "stdout",
          "text": [
            "[[0.00280831]\n",
            " [0.99160668]]\n",
            "Revenue    0.427804\n",
            "dtype: float64\n"
          ]
        }
      ]
    },
    {
      "cell_type": "markdown",
      "metadata": {
        "id": "sjVfNlpzYMe2"
      },
      "source": [
        "## `7. Plot del ECM en función de las iteraciones`"
      ]
    },
    {
      "cell_type": "code",
      "metadata": {
        "colab": {
          "base_uri": "https://localhost:8080/",
          "height": 265
        },
        "id": "9lb_RCidLsEL",
        "outputId": "600fd126-4019-448f-cb90-2ced08ba4b67"
      },
      "source": [
        "plt.plot(cost_history_r)\n",
        "plt.show()"
      ],
      "execution_count": 142,
      "outputs": [
        {
          "output_type": "display_data",
          "data": {
            "image/png": "[encoded data removed]",
            "text/plain": [
              "<Figure size 432x288 with 1 Axes>"
            ]
          },
          "metadata": {
            "needs_background": "light"
          }
        }
      ]
    }
  ]
}